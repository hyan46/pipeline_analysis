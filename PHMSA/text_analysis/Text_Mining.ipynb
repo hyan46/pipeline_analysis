{
 "cells": [
  {
   "cell_type": "markdown",
   "metadata": {
    "collapsed": false,
    "id": "Z0lzBsOUzvNC"
   },
   "source": [
    "*This notebook is modified by Hao Yan from original source: [Python Data Science Handbook](http://shop.oreilly.com/product/0636920034919.do) by Jake VanderPlas; the content is available [on GitHub](https://github.com/jakevdp/PythonDataScienceHandbook).*\n",
    "\n",
    "*The text is released under the [CC-BY-NC-ND license](https://creativecommons.org/licenses/by-nc-nd/3.0/us/legalcode), and code is released under the [MIT license](https://opensource.org/licenses/MIT). If you find this content useful, please consider supporting the work by [buying the book](http://shop.oreilly.com/product/0636920034919.do)!*"
   ]
  },
  {
   "cell_type": "markdown",
   "metadata": {
    "collapsed": false,
    "id": "IznbzjtpzvNH"
   },
   "source": [
    "# Naive Bayes Classification"
   ]
  },
  {
   "cell_type": "markdown",
   "metadata": {
    "collapsed": false,
    "id": "YK-CakdWzvNH"
   },
   "source": [
    "The previous four sections have given a general overview of the concepts of machine learning.\n",
    "In this section and the ones that follow, we will be taking a closer look at several specific algorithms for supervised and unsupervised learning, starting here with naive Bayes classification.\n",
    "\n",
    "Naive Bayes models are a group of extremely fast and simple classification algorithms that are often suitable for very high-dimensional datasets.\n",
    "Because they are so fast and have so few tunable parameters, they end up being very useful as a quick-and-dirty baseline for a classification problem.\n",
    "This section will focus on an intuitive explanation of how naive Bayes classifiers work, followed by a couple examples of them in action on some datasets."
   ]
  },
  {
   "cell_type": "markdown",
   "metadata": {
    "collapsed": false,
    "id": "CKZw2rWOzvNI"
   },
   "source": [
    "## Bayesian Classification\n",
    "\n",
    "Naive Bayes classifiers are built on Bayesian classification methods.\n",
    "These rely on Bayes's theorem, which is an equation describing the relationship of conditional probabilities of statistical quantities.\n",
    "In Bayesian classification, we're interested in finding the probability of a label given some observed features, which we can write as $P(L~|~{\\rm features})$.\n",
    "Bayes's theorem tells us how to express this in terms of quantities we can compute more directly:\n",
    "\n",
    "$$\n",
    "P(L~|~{\\rm features}) = \\frac{P({\\rm features}~|~L)P(L)}{P({\\rm features})}\n",
    "$$\n",
    "\n",
    "If we are trying to decide between two labels—let's call them $L_1$ and $L_2$—then one way to make this decision is to compute the ratio of the posterior probabilities for each label:\n",
    "\n",
    "$$\n",
    "\\frac{P(L_1~|~{\\rm features})}{P(L_2~|~{\\rm features})} = \\frac{P({\\rm features}~|~L_1)}{P({\\rm features}~|~L_2)}\\frac{P(L_1)}{P(L_2)}\n",
    "$$\n",
    "\n",
    "All we need now is some model by which we can compute $P({\\rm features}~|~L_i)$ for each label.\n",
    "Such a model is called a *generative model* because it specifies the hypothetical random process that generates the data.\n",
    "Specifying this generative model for each label is the main piece of the training of such a Bayesian classifier.\n",
    "The general version of such a training step is a very difficult task, but we can make it simpler through the use of some simplifying assumptions about the form of this model.\n",
    "\n",
    "This is where the \"naive\" in \"naive Bayes\" comes in: if we make very naive assumptions about the generative model for each label, we can find a rough approximation of the generative model for each class, and then proceed with the Bayesian classification.\n",
    "Different types of naive Bayes classifiers rest on different naive assumptions about the data, and we will examine a few of these in the following sections.\n",
    "\n",
    "Gaussian Naive Bayes  has shown in another notebook. This notebook shows how to apply Multinomial Naive Bayes for Text Classification"
   ]
  },
  {
   "cell_type": "code",
   "execution_count": 149,
   "metadata": {
    "collapsed": false
   },
   "outputs": [
    {
     "name": "stdout",
     "output_type": "stream",
     "text": [
      "Collecting package metadata (current_repodata.json): - "
     ]
    },
    {
     "name": "stdout",
     "output_type": "stream",
     "text": [
      "\b\b\\ "
     ]
    },
    {
     "name": "stdout",
     "output_type": "stream",
     "text": [
      "\b\b| "
     ]
    },
    {
     "name": "stdout",
     "output_type": "stream",
     "text": [
      "\b\b/ "
     ]
    },
    {
     "name": "stdout",
     "output_type": "stream",
     "text": [
      "\b\b- "
     ]
    },
    {
     "name": "stdout",
     "output_type": "stream",
     "text": [
      "\b\b\\ "
     ]
    },
    {
     "name": "stdout",
     "output_type": "stream",
     "text": [
      "\b\b| "
     ]
    },
    {
     "name": "stdout",
     "output_type": "stream",
     "text": [
      "\b\b/ "
     ]
    },
    {
     "name": "stdout",
     "output_type": "stream",
     "text": [
      "\b\b- "
     ]
    },
    {
     "name": "stdout",
     "output_type": "stream",
     "text": [
      "\b\b\\ "
     ]
    },
    {
     "name": "stdout",
     "output_type": "stream",
     "text": [
      "\b\b| "
     ]
    },
    {
     "name": "stdout",
     "output_type": "stream",
     "text": [
      "\b\b/ "
     ]
    },
    {
     "name": "stdout",
     "output_type": "stream",
     "text": [
      "\b\b- "
     ]
    },
    {
     "name": "stdout",
     "output_type": "stream",
     "text": [
      "\b\b\\ "
     ]
    },
    {
     "name": "stdout",
     "output_type": "stream",
     "text": [
      "\b\b| "
     ]
    },
    {
     "name": "stdout",
     "output_type": "stream",
     "text": [
      "\b\bdone\r\n",
      "Solving environment: - "
     ]
    },
    {
     "name": "stdout",
     "output_type": "stream",
     "text": [
      "\b\b\\ "
     ]
    },
    {
     "name": "stdout",
     "output_type": "stream",
     "text": [
      "\b\b| "
     ]
    },
    {
     "name": "stdout",
     "output_type": "stream",
     "text": [
      "\b\b/ "
     ]
    },
    {
     "name": "stdout",
     "output_type": "stream",
     "text": [
      "\b\b- "
     ]
    },
    {
     "name": "stdout",
     "output_type": "stream",
     "text": [
      "\b\b\\ "
     ]
    },
    {
     "name": "stdout",
     "output_type": "stream",
     "text": [
      "\b\b| "
     ]
    },
    {
     "name": "stdout",
     "output_type": "stream",
     "text": [
      "\b\b/ "
     ]
    },
    {
     "name": "stdout",
     "output_type": "stream",
     "text": [
      "\b\b- "
     ]
    },
    {
     "name": "stdout",
     "output_type": "stream",
     "text": [
      "\b\b\\ "
     ]
    },
    {
     "name": "stdout",
     "output_type": "stream",
     "text": [
      "\b\b| "
     ]
    },
    {
     "name": "stdout",
     "output_type": "stream",
     "text": [
      "\b\b/ "
     ]
    },
    {
     "name": "stdout",
     "output_type": "stream",
     "text": [
      "\b\b- "
     ]
    },
    {
     "name": "stdout",
     "output_type": "stream",
     "text": [
      "\b\b\\ "
     ]
    },
    {
     "name": "stdout",
     "output_type": "stream",
     "text": [
      "\b\b| "
     ]
    },
    {
     "name": "stdout",
     "output_type": "stream",
     "text": [
      "\b\b/ "
     ]
    },
    {
     "name": "stdout",
     "output_type": "stream",
     "text": [
      "\b\b- "
     ]
    },
    {
     "name": "stdout",
     "output_type": "stream",
     "text": [
      "\b\b\\ "
     ]
    },
    {
     "name": "stdout",
     "output_type": "stream",
     "text": [
      "\b\b| "
     ]
    },
    {
     "name": "stdout",
     "output_type": "stream",
     "text": [
      "\b\b/ "
     ]
    },
    {
     "name": "stdout",
     "output_type": "stream",
     "text": [
      "\b\b- "
     ]
    },
    {
     "name": "stdout",
     "output_type": "stream",
     "text": [
      "\b\b\\ "
     ]
    },
    {
     "name": "stdout",
     "output_type": "stream",
     "text": [
      "\b\bdone\r\n"
     ]
    },
    {
     "name": "stdout",
     "output_type": "stream",
     "text": [
      "\r\n",
      "\r\n",
      "==> WARNING: A newer version of conda exists. <==\r\n",
      "  current version: 4.10.3\r\n",
      "  latest version: 4.12.0\r\n",
      "\r\n",
      "Please update conda by running\r\n",
      "\r\n",
      "    $ conda update -n base -c defaults conda\r\n",
      "\r\n",
      "\r\n"
     ]
    },
    {
     "name": "stdout",
     "output_type": "stream",
     "text": [
      "\r\n",
      "# All requested packages already installed.\r\n",
      "\r\n"
     ]
    },
    {
     "name": "stdout",
     "output_type": "stream",
     "text": [
      "\n",
      "Note: you may need to restart the kernel to use updated packages.\n"
     ]
    }
   ],
   "source": [
    "conda install seaborn"
   ]
  },
  {
   "cell_type": "markdown",
   "metadata": {
    "collapsed": false,
    "id": "_GSt9_VzzvNI"
   },
   "source": [
    "## Multinomial Naive Bayes\n",
    "\n",
    "The Gaussian assumption just described is by no means the only simple assumption that could be used to specify the generative distribution for each label.\n",
    "Another useful example is multinomial naive Bayes, where the features are assumed to be generated from a simple multinomial distribution.\n",
    "The multinomial distribution describes the probability of observing counts among a number of categories, and thus multinomial naive Bayes is most appropriate for features that represent counts or count rates.\n",
    "\n",
    "The idea is precisely the same as before, except that instead of modeling the data distribution with the best-fit Gaussian, we model the data distribuiton with a best-fit multinomial distribution."
   ]
  },
  {
   "cell_type": "markdown",
   "metadata": {
    "collapsed": false,
    "id": "YzN_I90LzvNI"
   },
   "source": [
    "### Example: Classifying Text\n",
    "\n",
    "One place where multinomial naive Bayes is often used is in text classification, where the features are related to word counts or frequencies within the documents to be classified.\n",
    "We discussed the extraction of such features from text in [Feature Engineering](05.04-Feature-Engineering.ipynb); here we will use the sparse word count features from the 20 Newsgroups corpus to show how we might classify these short documents into categories.\n",
    "\n",
    "Let's download the data and take a look at the target names:"
   ]
  },
  {
   "cell_type": "code",
   "execution_count": 171,
   "metadata": {
    "collapsed": false
   },
   "outputs": [
    {
     "name": "stdout",
     "output_type": "stream",
     "text": [
      "The autoreload extension is already loaded. To reload it, use:\n",
      "  %reload_ext autoreload\n"
     ]
    }
   ],
   "source": [
    "%load_ext autoreload\n",
    "\n",
    "%autoreload 2\n"
   ]
  },
  {
   "cell_type": "code",
   "execution_count": 172,
   "metadata": {
    "collapsed": false
   },
   "outputs": [
   ],
   "source": [
    "import lime"
   ]
  },
  {
   "cell_type": "code",
   "execution_count": 173,
   "metadata": {
    "collapsed": false,
    "id": "w4c1fxEpfBdG"
   },
   "outputs": [
   ],
   "source": [
    "import pandas as pd\n",
    "import numpy as np\n",
    "from collections import Counter\n",
    "pd.options.display.max_colwidth = 200\n",
    "import matplotlib.pyplot as plt\n",
    "import seaborn as sns\n",
    "\n",
    "import re\n",
    "import nltk\n",
    "%matplotlib inline\n",
    "def update_dict(old_dict, new_dict):\n",
    "    for key in new_dict:\n",
    "        old_dict[key]=old_dict.get(key, 0) + new_dict[key]"
   ]
  },
  {
   "cell_type": "code",
   "execution_count": 174,
   "metadata": {
    "collapsed": false
   },
   "outputs": [
   ],
   "source": [
    "from collections import Counter\n",
    "\n",
    "data3 = pd.read_csv('incident_gas_distribution_jan2010_present.csv', encoding = \"ISO-8859-1\")\n",
    "\n",
    "\n",
    "cause_count = {}\n",
    "update_dict(cause_count, Counter(data3['CAUSE']))"
   ]
  },
  {
   "cell_type": "code",
   "execution_count": 175,
   "metadata": {
    "collapsed": false,
    "scrolled": true
   },
   "outputs": [
    {
     "data": {
      "image/png": "[encoded data removed]",
      "text/plain": [
       "<Figure size 504x576 with 1 Axes>"
      ]
     },
     "execution_count": 175,
     "metadata": {
      "needs_background": "light"
     },
     "output_type": "execute_result"
    }
   ],
   "source": [
    "\n",
    "\n",
    "plt.figure(figsize=(7,8))\n",
    "cause_count = {k: v for k, v in sorted(cause_count.items(), key=lambda item: item[1])}\n",
    "leng = 10\n",
    "plt.barh(range(len(cause_count))[-leng:], list(cause_count.values())[-leng:], align='center')\n",
    "plt.yticks(range(len(cause_count))[-leng:], list(cause_count.keys())[-leng:])\n",
    "plt.show()"
   ]
  },
  {
   "cell_type": "code",
   "execution_count": 176,
   "metadata": {
    "collapsed": false
   },
   "outputs": [
   ],
   "source": [
    "import seaborn as sns\n",
    "import matplotlib.pyplot as plt\n",
    "sns.set(font_scale = 1.3)\n",
    "# chart = sns.displot(y)\n",
    "# chart.set_xticklabels(rotation=65, horizontalalignment='right')\n"
   ]
  },
  {
   "cell_type": "code",
   "execution_count": 0,
   "metadata": {
    "collapsed": false,
    "id": "3pxechp-fa0y"
   },
   "outputs": [
   ],
   "source": [
   ]
  },
  {
   "cell_type": "code",
   "execution_count": 177,
   "metadata": {
    "collapsed": false,
    "id": "DQ-iHIdCjnA8"
   },
   "outputs": [
   ],
   "source": [
    "data3.dropna(subset = [\"NARRATIVE\"], inplace=True)\n",
    "data3.dropna(subset = [\"CAUSE\"], inplace=True)\n",
    "\n",
    "data3.reset_index(inplace= True)"
   ]
  },
  {
   "cell_type": "code",
   "execution_count": 0,
   "metadata": {
    "collapsed": false,
    "id": "sY3_NlorHEwn"
   },
   "outputs": [
   ],
   "source": [
   ]
  },
  {
   "cell_type": "code",
   "execution_count": 178,
   "metadata": {
    "collapsed": false
   },
   "outputs": [
   ],
   "source": [
    "data3['NARRATIVE'] = data3['NARRATIVE'].apply(lambda x: x.lower())"
   ]
  },
  {
   "cell_type": "code",
   "execution_count": 180,
   "metadata": {
    "collapsed": false
   },
   "outputs": [
   ],
   "source": [
    "#defining function for tokenization\n",
    "import re\n",
    "def tokenization(text):\n",
    "    tokens = re.split('W+',text)\n",
    "    return tokens\n",
    "#applying function to the column\n",
    "data3['msg_tokenied']= data3['NARRATIVE'] .apply(lambda x: tokenization(x))\n"
   ]
  },
  {
   "cell_type": "code",
   "execution_count": 181,
   "metadata": {
    "collapsed": false
   },
   "outputs": [
   ],
   "source": [
    "#importing nlp library\n",
    "import nltk\n",
    "#Stop words present in the library\n",
    "stopwords = nltk.corpus.stopwords.words('english')\n",
    "stopwords[0:10]\n",
    "['i', 'me', 'my', 'myself', 'we', 'our', 'ours', 'ourselves', 'you', \"you're\"]\n",
    "#defining the function to remove stopwords from tokenized text\n",
    "def remove_stopwords(text):\n",
    "    output= [i for i in text if i not in stopwords]\n",
    "    return output\n",
    "#applying the function\n",
    "data3['no_stopwords']= data3['msg_tokenied'].apply(lambda x:remove_stopwords(x))\n"
   ]
  },
  {
   "cell_type": "code",
   "execution_count": 185,
   "metadata": {
    "collapsed": false
   },
   "outputs": [
    {
     "data": {
      "text/plain": [
       "['gas crew was installing a new 3/4 inch pe service line with a plastic bolt on service tee on a 4\" pe main. the service line being installed with an efv was connected to the service tee at the main. the tap cutter on the service tee was screwed clockwise to tap into the main to provide gas to the new customer. after tap was completed and the gas had been introduced into the service line for approximately 30 minutes, the tap side of the efv, the fitting (nut that fastens the efv to the tap) blew off. the employee that was injured jumped into the hole and attempted to screw the tap cutter back down into the main to stop gas flow. while turning the tap, approximately 2 rounds, the gas ignited.  the individual jumped out of the hole and a crew member went to a close by main line valve to turn off the gas feeding the damaged service line. this main line valve shut off gas downstream of the closed valve. there was a water service located in the same excavation that melted and the water extinguished the fire. the main line valve was turned off eliminating the gas flow.']"
      ]
     },
     "execution_count": 185,
     "metadata": {
     },
     "output_type": "execute_result"
    }
   ],
   "source": [
   ]
  },
  {
   "cell_type": "code",
   "execution_count": 184,
   "metadata": {
    "collapsed": false
   },
   "outputs": [
   ],
   "source": [
    "#importing the Stemming function from nltk library\n",
    "from nltk.stem.porter import PorterStemmer\n",
    "#defining the object for stemming\n",
    "porter_stemmer = PorterStemmer()\n",
    "#defining a function for stemming\n",
    "def stemming(text):\n",
    "    stem_text = [porter_stemmer.stem(word) for word in text]\n",
    "    return stem_text\n",
    "data3['msg_stemmed']=data3['no_stopwords'].apply(lambda x: stemming(x))"
   ]
  },
  {
   "cell_type": "code",
   "execution_count": 186,
   "metadata": {
    "collapsed": false
   },
   "outputs": [
   ],
   "source": [
    "X=data3['msg_stemmed'].tolist()\n",
    "y=data3['CAUSE'].tolist()\n",
    "\n",
    "\n"
   ]
  },
  {
   "cell_type": "code",
   "execution_count": 187,
   "metadata": {
    "collapsed": false,
    "id": "zxJwbGETRl-x"
   },
   "outputs": [
   ],
   "source": [
    "from sklearn import preprocessing\n",
    "\n",
    "le = preprocessing.LabelEncoder()\n",
    "le.fit(data3.CAUSE)\n",
    "data3['categorical_label'] = le.transform(data3.CAUSE)"
   ]
  },
  {
   "cell_type": "code",
   "execution_count": 188,
   "metadata": {
    "collapsed": false,
    "id": "OXDOTg7ARjPV"
   },
   "outputs": [
    {
     "data": {
      "text/plain": [
       "array(['CORROSION FAILURE', 'EQUIPMENT FAILURE', 'EXCAVATION DAMAGE',\n",
       "       'INCORRECT OPERATION', 'MATERIAL FAILURE OF PIPE OR WELD',\n",
       "       'NATURAL FORCE DAMAGE', 'OTHER INCIDENT CAUSE',\n",
       "       'OTHER OUTSIDE FORCE DAMAGE'], dtype=object)"
      ]
     },
     "execution_count": 188,
     "metadata": {
     },
     "output_type": "execute_result"
    }
   ],
   "source": [
    "le.classes_"
   ]
  },
  {
   "cell_type": "markdown",
   "metadata": {
    "collapsed": false,
    "id": "VwZC92MPzvNJ"
   },
   "source": [
    "For simplicity here, we will select just a few of these categories, and download the training and testing set:"
   ]
  },
  {
   "cell_type": "code",
   "execution_count": 189,
   "metadata": {
    "collapsed": false,
    "id": "3r4fdzzmzvNJ"
   },
   "outputs": [
   ],
   "source": [
    "#categories = ['talk.religion.misc', 'soc.religion.christian', 'sci.space', 'comp.graphics'] # Use only these five classes\n",
    "from sklearn.model_selection import train_test_split\n",
    "X=np.array(data3.NARRATIVE).tolist()\n",
    "y=np.array(data3.categorical_label).tolist()\n",
    "X_train, X_test, y_train, y_test = train_test_split(X, y, test_size=0.33, random_state=42)\n"
   ]
  },
  {
   "cell_type": "markdown",
   "metadata": {
    "collapsed": false,
    "id": "Q_YKfshxzvNK"
   },
   "source": [
    "\n",
    "\n",
    "\n",
    "\n",
    "\n",
    "\n",
    "\n",
    "\n",
    "\n",
    "Here is a representative entry from the data:"
   ]
  },
  {
   "cell_type": "markdown",
   "metadata": {
    "collapsed": false,
    "id": "KEwPdbMYzvNK"
   },
   "source": [
    "In order to use this data for machine learning, we need to be able to convert the content of each string into a vector of numbers.\n",
    "For this we will use the TF-IDF vectorizer, and create a pipeline that attaches it to a multinomial naive Bayes classifier:"
   ]
  },
  {
   "cell_type": "code",
   "execution_count": 190,
   "metadata": {
    "collapsed": false,
    "id": "n5GeZ7PRzvNK"
   },
   "outputs": [
   ],
   "source": [
    "from sklearn.feature_extraction.text import TfidfVectorizer\n",
    "from sklearn.naive_bayes import MultinomialNB\n",
    "from sklearn.ensemble import RandomForestClassifier\n",
    "\n",
    "from sklearn.pipeline import make_pipeline\n",
    "\n"
   ]
  },
  {
   "cell_type": "markdown",
   "metadata": {
    "collapsed": false,
    "id": "e6268i4FzvNK"
   },
   "source": [
    "### 2-step approach: First, pre-process then fit"
   ]
  },
  {
   "cell_type": "code",
   "execution_count": 0,
   "metadata": {
    "collapsed": false
   },
   "outputs": [
   ],
   "source": [
   ]
  },
  {
   "cell_type": "markdown",
   "metadata": {
    "collapsed": false,
    "id": "JSKUP0BDzvNL"
   },
   "source": [
    "## Approach 1: Preprocessing and Prediction in Two step"
   ]
  },
  {
   "cell_type": "code",
   "execution_count": 18,
   "metadata": {
    "colab": {
     "base_uri": "https://localhost:8080/",
     "height": 284
    },
    "collapsed": false,
    "id": "2MdPIcirzvNL",
    "outputId": "55d526b5-ebb2-476a-c17c-33afc8fd830b"
   },
   "outputs": [
    {
     "data": {
      "image/png": "[encoded data removed]",
      "text/plain": [
       "<Figure size 432x288 with 1 Axes>"
      ]
     },
     "execution_count": 18,
     "metadata": {
     },
     "output_type": "execute_result"
    }
   ],
   "source": [
    "from sklearn.metrics import confusion_matrix\n",
    "import matplotlib.pyplot as plt\n",
    "mat = confusion_matrix(y_test, labels)\n",
    "sns.heatmap(mat.T, square=True, annot=True, fmt='d', cbar=False)\n",
    "plt.xlabel('true label')\n",
    "plt.ylabel('predicted label');"
   ]
  },
  {
   "cell_type": "markdown",
   "metadata": {
    "collapsed": false,
    "id": "15DvUxlFzvNM"
   },
   "source": [
    "## Approach 2: Pipeline"
   ]
  },
  {
   "cell_type": "code",
   "execution_count": 191,
   "metadata": {
    "collapsed": false,
    "id": "GOQbRVf4EaNM"
   },
   "outputs": [
   ],
   "source": [
    "from sklearn.feature_extraction.text import TfidfVectorizer, CountVectorizer\n",
    "\n",
    "from sklearn.naive_bayes import MultinomialNB\n",
    "from sklearn.pipeline import Pipeline\n"
   ]
  },
  {
   "cell_type": "code",
   "execution_count": 0,
   "metadata": {
    "collapsed": false
   },
   "outputs": [
   ],
   "source": [
   ]
  },
  {
   "cell_type": "code",
   "execution_count": 0,
   "metadata": {
    "collapsed": false
   },
   "outputs": [
   ],
   "source": [
   ]
  },
  {
   "cell_type": "markdown",
   "metadata": {
    "collapsed": false,
    "id": "7R4GiFF7zvNN"
   },
   "source": [
    "With this pipeline, we can apply the model to the training data, and predict labels for the test data:"
   ]
  },
  {
   "cell_type": "code",
   "execution_count": 192,
   "metadata": {
    "collapsed": false,
    "id": "GBMnPxFkzvNN"
   },
   "outputs": [
   ],
   "source": [
    "X_train, X_test, y_train, y_test = train_test_split(X, y, test_size=0.33)\n",
    "\n",
    "steps = [('tfidf', TfidfVectorizer()), ('rf', RandomForestClassifier(class_weight='balanced'))]\n",
    "model = Pipeline(steps)\n",
    "\n"
   ]
  },
  {
   "cell_type": "code",
   "execution_count": 193,
   "metadata": {
    "collapsed": false,
    "id": "AGZMAsQgG4ie"
   },
   "outputs": [
    {
     "name": "stdout",
     "output_type": "stream",
     "text": [
      "Fitting 3 folds for each of 500 candidates, totalling 1500 fits\n"
     ]
    }
   ],
   "source": [
    "\n",
    "from sklearn.model_selection import RandomizedSearchCV\n",
    "# Number of trees in random forest\n",
    "n_estimators = [int(x) for x in np.linspace(start=200, stop=2000, num=10)]\n",
    "# Number of features to consider at every split\n",
    "max_features = ['auto', 'sqrt']\n",
    "# Maximum number of levels in tree\n",
    "max_depth = [int(x) for x in np.linspace(10, 110, num=11)]\n",
    "max_depth.append(None)\n",
    "# Minimum number of samples required to split a node\n",
    "min_samples_split = [2, 5, 10]\n",
    "# Minimum number of samples required at each leaf node\n",
    "min_samples_leaf = [1, 2, 4]\n",
    "# Method of selecting samples for training each tree\n",
    "bootstrap = [True, False]\n",
    "# Create the random grid\n",
    "random_grid = {\n",
    "    'rf__n_estimators': n_estimators,\n",
    "    'rf__max_features': max_features,\n",
    "    'rf__max_depth': max_depth,\n",
    "    'rf__min_samples_split': min_samples_split,\n",
    "    'rf__min_samples_leaf': min_samples_leaf,\n",
    "    'rf__bootstrap': bootstrap\n",
    "}\n",
    "\n",
    "rf_random = RandomizedSearchCV(estimator=model,\n",
    "                               param_distributions=random_grid,\n",
    "                               n_iter=500,\n",
    "                               cv=3,\n",
    "                               verbose=2,\n",
    "                               random_state=42,\n",
    "                               n_jobs=-1)\n",
    "\n",
    "rf_random.fit(X_train, y_train)\n",
    "y_pred = rf_random.predict(X_test)"
   ]
  },
  {
   "cell_type": "code",
   "execution_count": 194,
   "metadata": {
    "collapsed": false
   },
   "outputs": [
   ],
   "source": [
    "import pickle\n",
    "filename = 'finalized_model.sav'\n",
    "pickle.dump(model, open(filename, 'wb'))\n"
   ]
  },
  {
   "cell_type": "code",
   "execution_count": 0,
   "metadata": {
    "collapsed": false
   },
   "outputs": [
   ],
   "source": [
   ]
  },
  {
   "cell_type": "code",
   "execution_count": 0,
   "metadata": {
    "collapsed": false
   },
   "outputs": [
   ],
   "source": [
   ]
  },
  {
   "cell_type": "markdown",
   "metadata": {
    "collapsed": false,
    "id": "MWPjTJAcDsDa"
   },
   "source": [
    "from lime.lime_text import LimeTextExplainer\n",
    "from lime import lime_text\n",
    "class_names = le.classes_\n",
    "explainer = LimeTextExplainer(class_names=class_names)\n",
    "explainer."
   ]
  },
  {
   "cell_type": "code",
   "execution_count": 197,
   "metadata": {
    "collapsed": false
   },
   "outputs": [
   ],
   "source": [
    "from lime.lime_text import LimeTextExplainer\n",
    "from lime import lime_text\n",
    "class_names = le.classes_\n",
    "explainer = LimeTextExplainer(class_names=class_names)\n",
    "for i in range(len(X_test)):\n",
    "    exp = explainer.explain_instance(X_test[i], \n",
    "                                     rf_random.best_estimator_.predict_proba, \n",
    "                                     num_features=10,top_labels=1)\n",
    "\n",
    "    # print('Document id: %d' % idx)\n",
    "    # print('Probability(christian) = {:.3f}'.format(p1.predict_proba([newsgroups_test.data[idx]])[0,1]))\n",
    "    # print('True class: %s' % class_names[newsgroups_test.target[idx]])\n",
    "    # print('R2 score: {:.3f}'.format(exp.score))\n",
    "    # exp.show_in_notebook(text=True)\n",
    "    exp.save_to_file('html/lime_{}_{}.html'.format(i,class_names[y_test[i]]))\n"
   ]
  },
  {
   "cell_type": "code",
   "execution_count": 53,
   "metadata": {
    "collapsed": false
   },
   "outputs": [
    {
     "data": {
      "text/plain": [
       "'WHILE STOPPING THE DEAD END OF A PIPELINE FOR SCHEDULED WORK, TDW SHORTSTOPP II PLUGGING SYSTEM FAILED, CAUSING A RELEASE OF GAS. THERE WERE NO INJURIES, FATALITIES, OR PROPERTY DAMAGE AS A RESULT OF THE RELEASE OF GAS. THE FIRE DEPARTMENT EVACUATED APPROXIMATELY 900 RESIDENTS ON A VOLUNTARY BASIS. I WILL BE PROVIDING UPDATES EVERY 30 DAYS.     6/12/2020 UPDATE:  AT THIS TIME, THE INVESTIGATION INTO THIS INCIDENT IS STILL ONGOING. I WILL PROVIDE AN UPDATE IN 30 DAYS OR ONCE ALL THE FACTS ARE KNOWN, WHICHEVER COMES FIRST.      7/13/2020 UPDATE:  AT THIS TIME, THE INVESTIGATION INTO THIS INCIDENT IS STILL ONGOING. WE ARE EXPECTING INITIAL RESULTS FROM A 3RD PARTY TESTING FACILITY WITHIN THE NEXT 14 DAYS. I WILL PROVIDE AN UPDATE IN 30 DAYS OR ONCE ALL THE FACTS ARE KNOWN, WHICHEVER COMES FIRST.     8/13/2020 UPDATE:   AT THIS TIME, WE HAVE RECEIVED RESULTS FROM A 3RD PARTY VENDOR AND ARE IN THE FINAL STAGES OF THE INVESTIGATION.  I WILL PROVIDE AN UPDATE IN 30 DAYS OR ONCE ALL THE FACTS OR KNOWN, WHICHEVER COMES FIRST.     4/16/2021 FINAL UPDATE:  THE WRONG TOOLING WAS SELECTED FOR THE PURPOSES OF THE JOB. THE STOPPLE EQUIPMENT USED WAS RATED FOR 150 PSI AND THE PIPE WAS OPERATING AT 190 PSI. THIS WAS A RESULT OF CONFUSING LANGUAGE IN THE MANUFACTURES EQUIPMENT LISTING TABLE , HUMAN ERROR, AND GAPS IN A TOOL SELECTION PROCESS.'"
      ]
     },
     "execution_count": 53,
     "metadata": {
     },
     "output_type": "execute_result"
    }
   ],
   "source": [
   ]
  },
  {
   "cell_type": "markdown",
   "metadata": {
    "collapsed": false,
    "id": "UXx16q5ZzvNO"
   },
   "source": [
    "Now that we have predicted the labels for the test data, we can evaluate them to learn about the performance of the estimator.\n",
    "For example, here is the confusion matrix between the true and predicted labels for the test data:"
   ]
  },
  {
   "cell_type": "code",
   "execution_count": 28,
   "metadata": {
    "colab": {
     "base_uri": "https://localhost:8080/",
     "height": 284
    },
    "collapsed": false,
    "id": "v-LvpvjyzvNO",
    "outputId": "cf22e0c2-12ea-4c55-a2b5-22d888c46de2"
   },
   "outputs": [
    {
     "data": {
      "image/png": "[encoded data removed]",
      "text/plain": [
       "<Figure size 432x288 with 1 Axes>"
      ]
     },
     "execution_count": 28,
     "metadata": {
     },
     "output_type": "execute_result"
    }
   ],
   "source": [
    "from sklearn.metrics import confusion_matrix\n",
    "import matplotlib.pyplot as plt\n",
    "mat = confusion_matrix(y_test, y_pred)\n",
    "sns.heatmap(mat.T, square=True, annot=True, fmt='d', cbar=False)\n",
    "plt.xlabel('true label')\n",
    "plt.ylabel('predicted label');"
   ]
  },
  {
   "cell_type": "code",
   "execution_count": 0,
   "metadata": {
    "collapsed": false
   },
   "outputs": [
   ],
   "source": [
   ]
  },
  {
   "cell_type": "code",
   "execution_count": 198,
   "metadata": {
    "collapsed": false
   },
   "outputs": [
   ],
   "source": [
    "from sklearn.metrics import classification_report\n",
    "report = classification_report(y_test, y_pred)\n"
   ]
  },
  {
   "cell_type": "code",
   "execution_count": 196,
   "metadata": {
    "collapsed": false
   },
   "outputs": [
    {
     "name": "stdout",
     "output_type": "stream",
     "text": [
      "              precision    recall  f1-score   support\n",
      "\n",
      "           0       0.70      0.54      0.61        13\n",
      "           1       0.70      0.70      0.70        20\n",
      "           2       0.85      0.97      0.90       131\n",
      "           3       0.59      0.63      0.61        35\n",
      "           4       0.47      0.44      0.45        32\n",
      "           5       0.33      0.38      0.35        24\n",
      "           6       0.39      0.30      0.34        30\n",
      "           7       0.81      0.74      0.78       136\n",
      "\n",
      "    accuracy                           0.72       421\n",
      "   macro avg       0.61      0.59      0.59       421\n",
      "weighted avg       0.71      0.72      0.71       421\n",
      "\n"
     ]
    }
   ],
   "source": [
    "print(report)"
   ]
  },
  {
   "cell_type": "code",
   "execution_count": 80,
   "metadata": {
    "collapsed": false
   },
   "outputs": [
    {
     "data": {
      "text/plain": [
       "2"
      ]
     },
     "execution_count": 80,
     "metadata": {
     },
     "output_type": "execute_result"
    }
   ],
   "source": [
   ]
  },
  {
   "cell_type": "code",
   "execution_count": 82,
   "metadata": {
    "collapsed": false
   },
   "outputs": [
    {
     "data": {
      "text/plain": [
       "'EXCAVATION DAMAGE'"
      ]
     },
     "execution_count": 82,
     "metadata": {
     },
     "output_type": "execute_result"
    }
   ],
   "source": [
    "class_names[y_test[15]]"
   ]
  },
  {
   "cell_type": "code",
   "execution_count": 0,
   "metadata": {
    "collapsed": false
   },
   "outputs": [
   ],
   "source": [
   ]
  },
  {
   "cell_type": "code",
   "execution_count": 0,
   "metadata": {
    "collapsed": false
   },
   "outputs": [
   ],
   "source": [
   ]
  },
  {
   "cell_type": "markdown",
   "metadata": {
    "collapsed": false,
    "id": "SpJJI1GDzvNO"
   },
   "source": [
    "Evidently, even this very simple classifier can successfully separate space talk from computer talk, but it gets confused between talk about religion and talk about Christianity.\n",
    "This is perhaps an expected area of confusion!\n",
    "\n",
    "The very cool thing here is that we now have the tools to determine the category for *any* string, using the ``predict()`` method of this pipeline.\n",
    "Here's a quick utility function that will return the prediction for a single string:"
   ]
  },
  {
   "cell_type": "code",
   "execution_count": 36,
   "metadata": {
    "collapsed": false,
    "id": "JwrD4obvzvNO"
   },
   "outputs": [
   ],
   "source": [
    "def predict_category(s, train= [X_train,y_train], model=model):\n",
    "    pred = model.predict([s])\n",
    "    return y_train[pred[0]]"
   ]
  },
  {
   "cell_type": "code",
   "execution_count": 41,
   "metadata": {
    "collapsed": false,
    "id": "BBpcdIOuzvNP"
   },
   "outputs": [
   ],
   "source": [
   ]
  },
  {
   "cell_type": "markdown",
   "metadata": {
    "collapsed": false,
    "id": "qfwhe9AHzvNP"
   },
   "source": [
    "Let's try it out:"
   ]
  },
  {
   "cell_type": "code",
   "execution_count": 42,
   "metadata": {
    "colab": {
     "base_uri": "https://localhost:8080/"
    },
    "collapsed": false,
    "id": "-3FGyAnjzvNP",
    "outputId": "c1a5084b-38ca-4412-91f8-f48f0a5c37f5"
   },
   "outputs": [
    {
     "data": {
      "text/plain": [
       "1"
      ]
     },
     "execution_count": 42,
     "metadata": {
     },
     "output_type": "execute_result"
    }
   ],
   "source": [
    "predict_category('ON SEPTEMBER 6, 2021, AT APPROX. 8:20 A.M., AN EXPLOSION OCCURRED AT A RESIDENTIAL PROPERTY AT 2366 EDWIN AVE, AKRON, OHIO.  ONE ADULT INDIVIDUAL WAS INSIDE THE STRUCTURE AT THE TIME OF THE INCIDENT AND SUBSEQUENTLY HOSPITALIZED.  THE INCIDENT SEVERELY DAMAGED THE STRUCTURE AT 2366 EDWIN AVE, AND A NEIGHBORING STRUCTURE (2370 EDWIN AVE) ALSO SUSTAINED DAMAGES.    ON SEPTEMBER 6, 2021, AT APPROX. 8:31 A.M., DOMINION ENERGY OHIO (DEO) RECEIVED A CALL FROM THE AKRON FIRE DEPARTMENT (AFD) REPORTING THE INCIDENT.  DEO FIRST RESPONDER ARRIVED AT APPROX. 8:48 A.M., AND AFD ALREADY HAD SHUT OFF THE FLOW OF GAS AT THE METER VALVE.  DEO FIRST RESPONDER CLOSED THE SERVICE LINE CURB VALVE AT 2366 EDWIN AVE AT APPROX. 8:56 A.M.    DEO BAR-HOLED AND PERFORMED LEAK DETECTION ALONG THE MAIN ON EDWIN AVE, ALONG THE CUSTOMER SERVICE LINES AND AROUND THE PERIMETERS OF THE STRUCTURES AT 2370, 2366, AND 2360 EDWIN AVE, AND IN NEARBY MANHOLES AND DRAINS, AND 0% READINGS WERE FOUND.  DEO LEAK SURVEYED ALONG MULTIPLE NEIGHBORING STREETS, AND NO LEAKS WERE DETECTED.  DEO PERFORMED ODORANT TESTING AT 2827 EDWIN AVE, AND THE ODORANT WAS READILY DETECTIBLE AT 0.68%.    ON SEPTEMBER 6, 2021, AFTER REMOVING THE GAS METER AND A SMALL SECTION OF PIPING WITH THE METER SHUTOFF VALVE FROM THE BASEMENT AT 2366 EDWIN AVE, DEO PRESSURE TESTED THE SERVICE LINE PIPING AT 2366 EDWIN AVE AT 7 OZ (OPERATING PRESSURE FOR THE LP SYSTEM) FOR 10 MINUTES.  NO PRESSURE DROP WAS OBSERVED.  THE GAS METER AND SECTION OF PIPING SECTION WITH THE METER SHUTOFF VALVE ARE BEING PRESERVED BY DEO FOR FUTURE LABORATORY INSPECTION AND TESTING.    ON SEPTEMBER 30, 2021, REPRESENTATIVES FROM DEO, PUCO, AND OTHER INTERESTED PARTIES PARTICIPATED IN A SITE EXAMINATION AT 2366 EDWIN AVE.  LEAK TESTING WAS CONDUCTED ON THE HOUSE LINES AND GAS APPLIANCES (FURNACE, WATER HEATER, STOVE/RANGE, DRYER, AND POSSIBLE PORCH HEATER), AND SECTIONS OF HOUSE LINE PIPING AND THE FURNACE COVER ARE BEING PRESERVED BY THE INSURER OF 2366 EDWIN AVE FOR FUTURE LABORATORY INSPECTION AND TESTING.     DEO INVESTIGATION IS ONGOING, AND SEVERAL ITEMS REMAIN UNKNOWN AT THIS TIME.  ALL FIGURES IN THIS REPORT SHOULD BE READ AS ESTIMATES.  AS REQUIRED, SUPPLEMENTAL NOTIFICATIONS WILL BE PROVIDED, AS APPROPRIATE, UNTIL A CONCLUSION ON THE CAUSE OF THE INCIDENT IS ASCERTAINED.')"
   ]
  },
  {
   "cell_type": "code",
   "execution_count": 79,
   "metadata": {
    "colab": {
     "base_uri": "https://localhost:8080/"
    },
    "collapsed": false,
    "id": "NcfRRci5zvNQ",
    "outputId": "29deba9a-3f63-47e1-8574-e25cf36c53fa"
   },
   "outputs": [
    {
     "data": {
      "text/plain": [
       "3"
      ]
     },
     "execution_count": 79,
     "metadata": {
     },
     "output_type": "execute_result"
    }
   ],
   "source": [
    "predict_category(X_test[1])"
   ]
  },
  {
   "cell_type": "code",
   "execution_count": 80,
   "metadata": {
    "collapsed": false,
    "id": "1oT0WiwgSFfR"
   },
   "outputs": [
    {
     "data": {
      "text/plain": [
       "3"
      ]
     },
     "execution_count": 80,
     "metadata": {
     },
     "output_type": "execute_result"
    }
   ],
   "source": [
    "y_test[1]"
   ]
  },
  {
   "cell_type": "code",
   "execution_count": 82,
   "metadata": {
    "collapsed": false,
    "id": "Vftw2DMtSR_Y"
   },
   "outputs": [
    {
     "data": {
      "text/plain": [
       "\"DURING A ROUTINE ANNUAL INSPECTION OF DISTRICT REGULATOR STATION LS-260, PEOPLES EMPLOYEES NEEDED TO ISOLATE THE REGULATOR FROM THE SYSTEM IN ORDER TO INSPECT IT.  IN ORDER TO ISOLATE THAT REGULATOR, THE STATION BY-PASS NEEDS TO BE MANUALLY OPERATED TO MAINTAIN OUTLET PRESSURE.   THE EMPLOYEES PLACED A GAUGE ON THE RELIEF VALVE PIPING, WHICH WAS UPSTREAM AND NOW ISOLATED FROM THE OUTLET/DOWNSTREAM PIPING.   WHILE MANUALLY OPERATING THE STATION'S BY-PASS THEY WERE UNABLE TO MONITOR THE OUTLET PRESSURE, RESULTING IN AN OVER PRESSURIZATION OF THE DOWNSTREAM SYSTEM IN THE TOWN OF ROBINSON, PA.    SUPPLEMENTAL QUESTION ASKED BY NRC:  WERE THE EMPLOYEES INVOLVED WITH THIS INCIDENT RE-QUALIFIED ON THE TASKS THAT LED TO THE OVER PRESSURIZATION?    ON APRIL 29, 2020, THERE WERE THREE EMPLOYEES ON SITE PERFORMING THE ANNUAL INSPECTION OF DISTRICT REGULATOR STATION LS-260, ROBINSON, PA WHEN THE OVER PRESSURIZATION OCCURRED.  ALL THREE INDIVIDUALS WERE RE-QUALIFIED ON JUNE 23, 2020 ON THE TASKS THAT LED TO THAT OVER PRESSURIZATION.  DURING THE TIME PERIOD FROM 4/29/2020 UNTIL THEIR RE-QUALIFICATION ON 6/23/2020, NONE OF THESE INDIVIDUALS WERE PERMITTED TO PERFORM ANNUAL DISTRICT REGULATOR INSPECTIONS INDEPENDENTLY, BUT WERE ASSIGNED TO WORK WITH SENIOR DISTRICT REGULATOR OQ CERTIFIED SPECIALISTS.\""
      ]
     },
     "execution_count": 82,
     "metadata": {
     },
     "output_type": "execute_result"
    }
   ],
   "source": [
    "X_test[1]"
   ]
  },
  {
   "cell_type": "code",
   "execution_count": 0,
   "metadata": {
    "collapsed": false
   },
   "outputs": [
   ],
   "source": [
   ]
  }
 ],
 "metadata": {
  "anaconda-cloud": {
  },
  "colab": {
   "collapsed_sections": [
   ],
   "name": "4.ipynb",
   "provenance": [
   ]
  },
  "kernelspec": {
   "display_name": "datascience",
   "language": "python",
   "name": "datascience",
   "resource_dir": "/projects/6fae5d89-a3b7-4710-9cf6-45baf0ec1de1/.local/share/jupyter/kernels/datascience"
  },
  "language_info": {
   "codemirror_mode": {
    "name": "ipython",
    "version": 3
   },
   "file_extension": ".py",
   "mimetype": "text/x-python",
   "name": "python",
   "nbconvert_exporter": "python",
   "pygments_lexer": "ipython3",
   "version": "3.9.5"
  }
 },
 "nbformat": 4,
 "nbformat_minor": 4
}